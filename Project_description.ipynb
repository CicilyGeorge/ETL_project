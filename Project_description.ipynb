{
 "metadata": {
  "language_info": {
   "codemirror_mode": {
    "name": "ipython",
    "version": 3
   },
   "file_extension": ".py",
   "mimetype": "text/x-python",
   "name": "python",
   "nbconvert_exporter": "python",
   "pygments_lexer": "ipython3",
   "version": "3.7.9-final"
  },
  "orig_nbformat": 2,
  "kernelspec": {
   "name": "python3",
   "display_name": "Python 3"
  }
 },
 "nbformat": 4,
 "nbformat_minor": 2,
 "cells": [
  {
   "source": [
    "# ETL Project: LEGO"
   ],
   "cell_type": "markdown",
   "metadata": {}
  },
  {
   "source": [
    "Team members:\n",
    "- John Bingley\n",
    "- Daniel Da Sobral\n",
    "- Cicily George\n",
    "- Sylvia Broadbent"
   ],
   "cell_type": "markdown",
   "metadata": {}
  },
  {
   "source": [
    "## Lego sets\n",
    "\n",
    "We are using different datasets from different locations to make a complete dataset based on the dataset from Kaggle which has the 2020 Lego Database and consists of 10 .csv files. We may not use all these files."
   ],
   "cell_type": "markdown",
   "metadata": {}
  },
  {
   "source": [
    "## Dataset sources"
   ],
   "cell_type": "markdown",
   "metadata": {}
  },
  {
   "source": [
    "Initially we were goint to use the Lego dataset from Kaggle as the base set (https://www.kaggle.com/hapahacks1/lego-database-2020). It has all the lego sets from 2020. As this information was taken from te Rebrickable website, we decided to use an API to extract this information ourselves. Upon further investigation we found out that Rebrikcable throtles API requests and asks that you download the information in stead (https://rebrickable.com/home/). So that is what we did. This is the simple version of the ERD:\n",
    "\n",
    "- inventories\n",
    "    - inventory_parts\n",
    "        - parts\n",
    "            - part_categories\n",
    "            - part_relationships\n",
    "        - colors\n",
    "            - elements\n",
    "- inventory_minifigs \n",
    "    - minifigs\n",
    "- inventory_sets \n",
    "    - sets \n",
    "    - themes"
   ],
   "cell_type": "markdown",
   "metadata": {}
  },
  {
   "source": [
    "We have been thinking about what information is missing that we can retrieve from another dataset/ website. We thopught the rating can be an important piece of information. We found the website Brickset (https://brickset.com/api/v3.asmx?op=getSets) and can retrieve this information via an API call. "
   ],
   "cell_type": "markdown",
   "metadata": {}
  },
  {
   "source": [
    "## Type of Database"
   ],
   "cell_type": "markdown",
   "metadata": {}
  },
  {
   "source": [
    "As thie Lego information has a lot of connecting tables we have chosen to use a relational database. PostgreSQL is particularly suitable for this type of information as it uses "
   ],
   "cell_type": "markdown",
   "metadata": {}
  },
  {
   "source": [],
   "cell_type": "markdown",
   "metadata": {}
  }
 ]
}