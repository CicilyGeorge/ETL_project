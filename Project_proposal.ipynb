{
 "metadata": {
  "language_info": {
   "codemirror_mode": {
    "name": "ipython",
    "version": 3
   },
   "file_extension": ".py",
   "mimetype": "text/x-python",
   "name": "python",
   "nbconvert_exporter": "python",
   "pygments_lexer": "ipython3",
   "version": "3.7.9-final"
  },
  "orig_nbformat": 2,
  "kernelspec": {
   "name": "python3",
   "display_name": "Python 3"
  }
 },
 "nbformat": 4,
 "nbformat_minor": 2,
 "cells": [
  {
   "source": [
    "# Project proposal"
   ],
   "cell_type": "markdown",
   "metadata": {}
  },
  {
   "source": [
    "Team members:\n",
    "- John Bingley\n",
    "- Daniel Da Sobral\n",
    "- Cicily George\n",
    "- Sylvia Broadbent"
   ],
   "cell_type": "markdown",
   "metadata": {}
  },
  {
   "source": [
    "## Lego sets\n",
    "\n",
    "We are using different datasets from different locations to make a complete dataset based on the dataset from Kaggle which has the 2020 Lego Database and consists of 10 .csv files. We may not use all these files."
   ],
   "cell_type": "markdown",
   "metadata": {}
  },
  {
   "source": [
    "To start with we have the following base information:\n",
    "- set id\n",
    "- set name\n",
    "- set team\n",
    "- set team id "
   ],
   "cell_type": "markdown",
   "metadata": {}
  },
  {
   "source": [
    "## Dataset sources"
   ],
   "cell_type": "markdown",
   "metadata": {}
  },
  {
   "source": [
    "Kaggle Lego Database 2020:\n",
    "https://www.kaggle.com/hapahacks1/lego-database-2020\n",
    "Content:\n",
    "- colors.csv: id\tname\trgb\tis_trans\n",
    "- elements.csv: element_id\tpart_num\tcolor_id\n",
    "- inventories.csv: id\tversion\tset_num\n",
    "- inventory_parts.csv: inventory_id\tpart_num\tcolor_id\tquantity\tis_spare\n",
    "- inventory_sets.csv: inventory_id\tset_num\tquantity\n",
    "- part_categories.csv: id\tname\n",
    "- part_relationships.csv: rel_type\tchild_part_num\tparent_part_num\n",
    "- parts.csv: part_num\tname\tpart_cat_id\tpart_material_id\n",
    "- sets.csv: set_num\tname\tyear\ttheme_id\tnum_parts\n",
    "- themes.csv: id\tname\tparent_id"
   ],
   "cell_type": "markdown",
   "metadata": {}
  },
  {
   "source": [
    "Bricklink - several options downloaded as text, can be opened in csv"
   ],
   "cell_type": "markdown",
   "metadata": {}
  },
  {
   "source": [
    "Brickset -\n",
    "This API Returns reviews based on data sets: https://brickset.com/api/v3.asmx/getReviews "
   ],
   "cell_type": "markdown",
   "metadata": {}
  },
  {
   "source": [
    "Brickwall"
   ],
   "cell_type": "markdown",
   "metadata": {}
  }
 ]
}