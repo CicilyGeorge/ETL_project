{
 "cells": [
  {
   "cell_type": "code",
   "execution_count": 1,
   "metadata": {
    "ExecuteTime": {
     "end_time": "2020-11-29T08:11:42.148111Z",
     "start_time": "2020-11-29T08:11:41.485521Z"
    }
   },
   "outputs": [],
   "source": [
    "import pandas as pd\n",
    "import requests\n",
    "import json"
   ]
  },
  {
   "cell_type": "code",
   "execution_count": 2,
   "metadata": {
    "ExecuteTime": {
     "end_time": "2020-11-29T08:11:42.164101Z",
     "start_time": "2020-11-29T08:11:42.149111Z"
    }
   },
   "outputs": [],
   "source": [
    "# Getting data using API and writing it into JSON file\n",
    "############\n",
    "\n",
    "# url = \"https://brickset.com/api/v3.asmx/getSets?apiKey=3-DLfb-T3ZA-qQLjW&userHash=&params={'year':'2020','pageSize':900}\"\n",
    "# response = requests.request(\"GET\", url)\n",
    "\n",
    "# with open('sets2020.json', 'w') as fp:\n",
    "#     json.dump(response.json(), fp)"
   ]
  },
  {
   "cell_type": "code",
   "execution_count": 3,
   "metadata": {
    "ExecuteTime": {
     "end_time": "2020-11-29T08:11:42.431214Z",
     "start_time": "2020-11-29T08:11:42.166101Z"
    }
   },
   "outputs": [
    {
     "data": {
      "text/html": [
       "<div>\n",
       "<style scoped>\n",
       "    .dataframe tbody tr th:only-of-type {\n",
       "        vertical-align: middle;\n",
       "    }\n",
       "\n",
       "    .dataframe tbody tr th {\n",
       "        vertical-align: top;\n",
       "    }\n",
       "\n",
       "    .dataframe thead th {\n",
       "        text-align: right;\n",
       "    }\n",
       "</style>\n",
       "<table border=\"1\" class=\"dataframe\">\n",
       "  <thead>\n",
       "    <tr style=\"text-align: right;\">\n",
       "      <th></th>\n",
       "      <th>set_id</th>\n",
       "      <th>set_num</th>\n",
       "      <th>rating</th>\n",
       "      <th>reviewCount</th>\n",
       "      <th>price</th>\n",
       "    </tr>\n",
       "  </thead>\n",
       "  <tbody>\n",
       "    <tr>\n",
       "      <th>0</th>\n",
       "      <td>29830</td>\n",
       "      <td>10270</td>\n",
       "      <td>4.3</td>\n",
       "      <td>3</td>\n",
       "      <td>179.99</td>\n",
       "    </tr>\n",
       "    <tr>\n",
       "      <th>1</th>\n",
       "      <td>29962</td>\n",
       "      <td>10271</td>\n",
       "      <td>4.1</td>\n",
       "      <td>0</td>\n",
       "      <td>89.99</td>\n",
       "    </tr>\n",
       "    <tr>\n",
       "      <th>2</th>\n",
       "      <td>29878</td>\n",
       "      <td>10272</td>\n",
       "      <td>4.3</td>\n",
       "      <td>0</td>\n",
       "      <td>299.99</td>\n",
       "    </tr>\n",
       "    <tr>\n",
       "      <th>3</th>\n",
       "      <td>30315</td>\n",
       "      <td>10273</td>\n",
       "      <td>4.3</td>\n",
       "      <td>0</td>\n",
       "      <td>249.99</td>\n",
       "    </tr>\n",
       "    <tr>\n",
       "      <th>4</th>\n",
       "      <td>30316</td>\n",
       "      <td>10274</td>\n",
       "      <td>0.0</td>\n",
       "      <td>0</td>\n",
       "      <td>199.99</td>\n",
       "    </tr>\n",
       "    <tr>\n",
       "      <th>...</th>\n",
       "      <td>...</td>\n",
       "      <td>...</td>\n",
       "      <td>...</td>\n",
       "      <td>...</td>\n",
       "      <td>...</td>\n",
       "    </tr>\n",
       "    <tr>\n",
       "      <th>807</th>\n",
       "      <td>30721</td>\n",
       "      <td>PE770439_1</td>\n",
       "      <td>0.0</td>\n",
       "      <td>0</td>\n",
       "      <td>NaN</td>\n",
       "    </tr>\n",
       "    <tr>\n",
       "      <th>808</th>\n",
       "      <td>30723</td>\n",
       "      <td>PE770441</td>\n",
       "      <td>0.0</td>\n",
       "      <td>0</td>\n",
       "      <td>NaN</td>\n",
       "    </tr>\n",
       "    <tr>\n",
       "      <th>809</th>\n",
       "      <td>30931</td>\n",
       "      <td>PINBALL</td>\n",
       "      <td>0.0</td>\n",
       "      <td>0</td>\n",
       "      <td>NaN</td>\n",
       "    </tr>\n",
       "    <tr>\n",
       "      <th>810</th>\n",
       "      <td>30928</td>\n",
       "      <td>SMMM</td>\n",
       "      <td>0.0</td>\n",
       "      <td>0</td>\n",
       "      <td>NaN</td>\n",
       "    </tr>\n",
       "    <tr>\n",
       "      <th>811</th>\n",
       "      <td>29992</td>\n",
       "      <td>TEDDY</td>\n",
       "      <td>0.0</td>\n",
       "      <td>0</td>\n",
       "      <td>NaN</td>\n",
       "    </tr>\n",
       "  </tbody>\n",
       "</table>\n",
       "<p>812 rows × 5 columns</p>\n",
       "</div>"
      ],
      "text/plain": [
       "     set_id     set_num  rating  reviewCount   price\n",
       "0     29830       10270     4.3            3  179.99\n",
       "1     29962       10271     4.1            0   89.99\n",
       "2     29878       10272     4.3            0  299.99\n",
       "3     30315       10273     4.3            0  249.99\n",
       "4     30316       10274     0.0            0  199.99\n",
       "..      ...         ...     ...          ...     ...\n",
       "807   30721  PE770439_1     0.0            0     NaN\n",
       "808   30723    PE770441     0.0            0     NaN\n",
       "809   30931     PINBALL     0.0            0     NaN\n",
       "810   30928        SMMM     0.0            0     NaN\n",
       "811   29992       TEDDY     0.0            0     NaN\n",
       "\n",
       "[812 rows x 5 columns]"
      ]
     },
     "execution_count": 3,
     "metadata": {},
     "output_type": "execute_result"
    }
   ],
   "source": [
    "# Reading from JSON file and Extracting needed data into a Data Frame\n",
    "with open('sets2020.json') as fp:\n",
    "  data = json.load(fp)\n",
    "\n",
    "count=len(data['sets'])\n",
    "\n",
    "data_dict = {\"set_id\":[], \"set_num\":[], \"rating\":[],\"reviewCount\":[],\"price\":[]};\n",
    "\n",
    "for i in range(count):\n",
    "    try:\n",
    "        data_dict['set_id'].append(data['sets'][i]['setID'])\n",
    "        data_dict['set_num'].append(data['sets'][i]['number'])\n",
    "        data_dict['rating'].append(data['sets'][i]['rating'])\n",
    "        data_dict['reviewCount'].append(data['sets'][i]['reviewCount'])\n",
    "        price_US = data['sets'][i]['LEGOCom']['US']\n",
    "        if price_US:\n",
    "            data_dict['price'].append(price_US['retailPrice'])\n",
    "        else:\n",
    "            data_dict['price'].append(None)\n",
    "        \n",
    "    except:\n",
    "        print(f\"missing {i}, \")\n",
    "\n",
    "api_sets_df = pd.DataFrame(data_dict)\n",
    "api_sets_df"
   ]
  },
  {
   "cell_type": "code",
   "execution_count": null,
   "metadata": {},
   "outputs": [],
   "source": []
  }
 ],
 "metadata": {
  "hide_input": false,
  "kernelspec": {
   "display_name": "Python 3",
   "language": "python",
   "name": "python3"
  },
  "language_info": {
   "codemirror_mode": {
    "name": "ipython",
    "version": 3
   },
   "file_extension": ".py",
   "mimetype": "text/x-python",
   "name": "python",
   "nbconvert_exporter": "python",
   "pygments_lexer": "ipython3",
   "version": "3.7.9"
  },
  "toc": {
   "base_numbering": 1,
   "nav_menu": {},
   "number_sections": true,
   "sideBar": true,
   "skip_h1_title": false,
   "title_cell": "Table of Contents",
   "title_sidebar": "Contents",
   "toc_cell": false,
   "toc_position": {},
   "toc_section_display": true,
   "toc_window_display": false
  },
  "varInspector": {
   "cols": {
    "lenName": "40",
    "lenType": 16,
    "lenVar": 40
   },
   "kernels_config": {
    "python": {
     "delete_cmd_postfix": "",
     "delete_cmd_prefix": "del ",
     "library": "var_list.py",
     "varRefreshCmd": "print(var_dic_list())"
    },
    "r": {
     "delete_cmd_postfix": ") ",
     "delete_cmd_prefix": "rm(",
     "library": "var_list.r",
     "varRefreshCmd": "cat(var_dic_list()) "
    }
   },
   "types_to_exclude": [
    "module",
    "function",
    "builtin_function_or_method",
    "instance",
    "_Feature"
   ],
   "window_display": false
  }
 },
 "nbformat": 4,
 "nbformat_minor": 4
}
