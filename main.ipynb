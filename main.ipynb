{
 "cells": [
  {
   "cell_type": "code",
   "execution_count": 13,
   "metadata": {
    "ExecuteTime": {
     "end_time": "2020-11-29T02:39:40.937959Z",
     "start_time": "2020-11-29T02:39:40.433705Z"
    },
    "scrolled": false
   },
   "outputs": [
    {
     "data": {
      "text/html": [
       "<style  type=\"text/css\" >\n",
       "</style><table id=\"T_2184dcb6_31ec_11eb_879b_c7dcbf71db4b\" ><caption>Lego Colors</caption><thead>    <tr>        <th class=\"blank level0\" ></th>        <th class=\"col_heading level0 col0\" >id</th>        <th class=\"col_heading level0 col1\" >name</th>        <th class=\"col_heading level0 col2\" >rgb</th>        <th class=\"col_heading level0 col3\" >is_trans</th>    </tr></thead><tbody>\n",
       "                <tr>\n",
       "                        <th id=\"T_2184dcb6_31ec_11eb_879b_c7dcbf71db4blevel0_row0\" class=\"row_heading level0 row0\" >0</th>\n",
       "                        <td id=\"T_2184dcb6_31ec_11eb_879b_c7dcbf71db4brow0_col0\" class=\"data row0 col0\" >-1</td>\n",
       "                        <td id=\"T_2184dcb6_31ec_11eb_879b_c7dcbf71db4brow0_col1\" class=\"data row0 col1\" >[Unknown]</td>\n",
       "                        <td id=\"T_2184dcb6_31ec_11eb_879b_c7dcbf71db4brow0_col2\" class=\"data row0 col2\" >0033B2</td>\n",
       "                        <td id=\"T_2184dcb6_31ec_11eb_879b_c7dcbf71db4brow0_col3\" class=\"data row0 col3\" >f</td>\n",
       "            </tr>\n",
       "            <tr>\n",
       "                        <th id=\"T_2184dcb6_31ec_11eb_879b_c7dcbf71db4blevel0_row1\" class=\"row_heading level0 row1\" >1</th>\n",
       "                        <td id=\"T_2184dcb6_31ec_11eb_879b_c7dcbf71db4brow1_col0\" class=\"data row1 col0\" >0</td>\n",
       "                        <td id=\"T_2184dcb6_31ec_11eb_879b_c7dcbf71db4brow1_col1\" class=\"data row1 col1\" >Black</td>\n",
       "                        <td id=\"T_2184dcb6_31ec_11eb_879b_c7dcbf71db4brow1_col2\" class=\"data row1 col2\" >05131D</td>\n",
       "                        <td id=\"T_2184dcb6_31ec_11eb_879b_c7dcbf71db4brow1_col3\" class=\"data row1 col3\" >f</td>\n",
       "            </tr>\n",
       "            <tr>\n",
       "                        <th id=\"T_2184dcb6_31ec_11eb_879b_c7dcbf71db4blevel0_row2\" class=\"row_heading level0 row2\" >2</th>\n",
       "                        <td id=\"T_2184dcb6_31ec_11eb_879b_c7dcbf71db4brow2_col0\" class=\"data row2 col0\" >1</td>\n",
       "                        <td id=\"T_2184dcb6_31ec_11eb_879b_c7dcbf71db4brow2_col1\" class=\"data row2 col1\" >Blue</td>\n",
       "                        <td id=\"T_2184dcb6_31ec_11eb_879b_c7dcbf71db4brow2_col2\" class=\"data row2 col2\" >0055BF</td>\n",
       "                        <td id=\"T_2184dcb6_31ec_11eb_879b_c7dcbf71db4brow2_col3\" class=\"data row2 col3\" >f</td>\n",
       "            </tr>\n",
       "            <tr>\n",
       "                        <th id=\"T_2184dcb6_31ec_11eb_879b_c7dcbf71db4blevel0_row3\" class=\"row_heading level0 row3\" >3</th>\n",
       "                        <td id=\"T_2184dcb6_31ec_11eb_879b_c7dcbf71db4brow3_col0\" class=\"data row3 col0\" >2</td>\n",
       "                        <td id=\"T_2184dcb6_31ec_11eb_879b_c7dcbf71db4brow3_col1\" class=\"data row3 col1\" >Green</td>\n",
       "                        <td id=\"T_2184dcb6_31ec_11eb_879b_c7dcbf71db4brow3_col2\" class=\"data row3 col2\" >237841</td>\n",
       "                        <td id=\"T_2184dcb6_31ec_11eb_879b_c7dcbf71db4brow3_col3\" class=\"data row3 col3\" >f</td>\n",
       "            </tr>\n",
       "            <tr>\n",
       "                        <th id=\"T_2184dcb6_31ec_11eb_879b_c7dcbf71db4blevel0_row4\" class=\"row_heading level0 row4\" >4</th>\n",
       "                        <td id=\"T_2184dcb6_31ec_11eb_879b_c7dcbf71db4brow4_col0\" class=\"data row4 col0\" >3</td>\n",
       "                        <td id=\"T_2184dcb6_31ec_11eb_879b_c7dcbf71db4brow4_col1\" class=\"data row4 col1\" >Dark Turquoise</td>\n",
       "                        <td id=\"T_2184dcb6_31ec_11eb_879b_c7dcbf71db4brow4_col2\" class=\"data row4 col2\" >008F9B</td>\n",
       "                        <td id=\"T_2184dcb6_31ec_11eb_879b_c7dcbf71db4brow4_col3\" class=\"data row4 col3\" >f</td>\n",
       "            </tr>\n",
       "            <tr>\n",
       "                        <th id=\"T_2184dcb6_31ec_11eb_879b_c7dcbf71db4blevel0_row5\" class=\"row_heading level0 row5\" >5</th>\n",
       "                        <td id=\"T_2184dcb6_31ec_11eb_879b_c7dcbf71db4brow5_col0\" class=\"data row5 col0\" >4</td>\n",
       "                        <td id=\"T_2184dcb6_31ec_11eb_879b_c7dcbf71db4brow5_col1\" class=\"data row5 col1\" >Red</td>\n",
       "                        <td id=\"T_2184dcb6_31ec_11eb_879b_c7dcbf71db4brow5_col2\" class=\"data row5 col2\" >C91A09</td>\n",
       "                        <td id=\"T_2184dcb6_31ec_11eb_879b_c7dcbf71db4brow5_col3\" class=\"data row5 col3\" >f</td>\n",
       "            </tr>\n",
       "            <tr>\n",
       "                        <th id=\"T_2184dcb6_31ec_11eb_879b_c7dcbf71db4blevel0_row6\" class=\"row_heading level0 row6\" >6</th>\n",
       "                        <td id=\"T_2184dcb6_31ec_11eb_879b_c7dcbf71db4brow6_col0\" class=\"data row6 col0\" >5</td>\n",
       "                        <td id=\"T_2184dcb6_31ec_11eb_879b_c7dcbf71db4brow6_col1\" class=\"data row6 col1\" >Dark Pink</td>\n",
       "                        <td id=\"T_2184dcb6_31ec_11eb_879b_c7dcbf71db4brow6_col2\" class=\"data row6 col2\" >C870A0</td>\n",
       "                        <td id=\"T_2184dcb6_31ec_11eb_879b_c7dcbf71db4brow6_col3\" class=\"data row6 col3\" >f</td>\n",
       "            </tr>\n",
       "            <tr>\n",
       "                        <th id=\"T_2184dcb6_31ec_11eb_879b_c7dcbf71db4blevel0_row7\" class=\"row_heading level0 row7\" >7</th>\n",
       "                        <td id=\"T_2184dcb6_31ec_11eb_879b_c7dcbf71db4brow7_col0\" class=\"data row7 col0\" >6</td>\n",
       "                        <td id=\"T_2184dcb6_31ec_11eb_879b_c7dcbf71db4brow7_col1\" class=\"data row7 col1\" >Brown</td>\n",
       "                        <td id=\"T_2184dcb6_31ec_11eb_879b_c7dcbf71db4brow7_col2\" class=\"data row7 col2\" >583927</td>\n",
       "                        <td id=\"T_2184dcb6_31ec_11eb_879b_c7dcbf71db4brow7_col3\" class=\"data row7 col3\" >f</td>\n",
       "            </tr>\n",
       "            <tr>\n",
       "                        <th id=\"T_2184dcb6_31ec_11eb_879b_c7dcbf71db4blevel0_row8\" class=\"row_heading level0 row8\" >8</th>\n",
       "                        <td id=\"T_2184dcb6_31ec_11eb_879b_c7dcbf71db4brow8_col0\" class=\"data row8 col0\" >7</td>\n",
       "                        <td id=\"T_2184dcb6_31ec_11eb_879b_c7dcbf71db4brow8_col1\" class=\"data row8 col1\" >Light Gray</td>\n",
       "                        <td id=\"T_2184dcb6_31ec_11eb_879b_c7dcbf71db4brow8_col2\" class=\"data row8 col2\" >9BA19D</td>\n",
       "                        <td id=\"T_2184dcb6_31ec_11eb_879b_c7dcbf71db4brow8_col3\" class=\"data row8 col3\" >f</td>\n",
       "            </tr>\n",
       "            <tr>\n",
       "                        <th id=\"T_2184dcb6_31ec_11eb_879b_c7dcbf71db4blevel0_row9\" class=\"row_heading level0 row9\" >9</th>\n",
       "                        <td id=\"T_2184dcb6_31ec_11eb_879b_c7dcbf71db4brow9_col0\" class=\"data row9 col0\" >8</td>\n",
       "                        <td id=\"T_2184dcb6_31ec_11eb_879b_c7dcbf71db4brow9_col1\" class=\"data row9 col1\" >Dark Gray</td>\n",
       "                        <td id=\"T_2184dcb6_31ec_11eb_879b_c7dcbf71db4brow9_col2\" class=\"data row9 col2\" >6D6E5C</td>\n",
       "                        <td id=\"T_2184dcb6_31ec_11eb_879b_c7dcbf71db4brow9_col3\" class=\"data row9 col3\" >f</td>\n",
       "            </tr>\n",
       "    </tbody></table>"
      ],
      "text/plain": [
       "<pandas.io.formats.style.Styler at 0x25c16a1d488>"
      ]
     },
     "metadata": {},
     "output_type": "display_data"
    }
   ],
   "source": [
    "#####\n",
    "###\n",
    "##\n",
    "#    SYNOPSIS\n",
    "#\n",
    "#    As a small data analytics firm, our client approached us with an urgent project to collect information\n",
    "#    about this year’s LEGO sets. They are part of the manufacturing process of LEGO pieces; and want to do \n",
    "#    predictive data modelling to find out what materials will be more in demand next year, based on this\n",
    "#    year’s information, so that they can optimise their manufacturing process.\n",
    "#\n",
    "#    They have requested the information be put into database format so that it can be accessed in a way\n",
    "#    that they are already familiar with.\n",
    "#\n",
    "#    Based on the timeframe of 1 week, we have assigned the following team members to this project:\n",
    "#\n",
    "#    CONTRIBUTORS\n",
    "#    \n",
    "#    Sylvia Broadbent @github/Supasyl\n",
    "#    Cicily George @github/CicilyGeorge\n",
    "#    Daniel Sobral @github/D0SO\n",
    "#    John Bingley @github/JB-DA\n",
    "#\n",
    "#    Source and output can be found (with access) on https://github.com/Supasyl/ETL_project\n",
    "#\n",
    "##\n",
    "###\n",
    "#####\n",
    "\n",
    "\n",
    "### SETTINGS\n",
    "##\n",
    "# Dependencies\n",
    "import pandas as pd\n",
    "from sqlalchemy import create_engine\n",
    "import requests\n",
    "import json\n",
    "\n",
    "\n",
    "### LOAD DATA FROM CSV\n",
    "##\n",
    "# Load pre-downloaded information\n",
    "df_colors = pd.read_csv( 'data_raw/colors.csv' )\n",
    "df_elements = pd.read_csv( 'data_raw/elements.csv' )\n",
    "df_inventories = pd.read_csv( 'data_raw/inventories.csv' )\n",
    "df_inventory_minifigs = pd.read_csv( 'data_raw/inventory_minifigs.csv' )\n",
    "df_inventory_parts = pd.read_csv( 'data_raw/inventory_parts.csv' )\n",
    "df_inventory_sets = pd.read_csv( 'data_raw/inventory_sets.csv' )\n",
    "df_minifigs = pd.read_csv( 'data_raw/minifigs.csv' )\n",
    "df_part_categories = pd.read_csv( 'data_raw/part_categories.csv' )\n",
    "df_part_relationships = pd.read_csv( 'data_raw/part_relationships.csv' )\n",
    "df_parts = pd.read_csv( 'data_raw/parts.csv' )\n",
    "df_sets = pd.read_csv( 'data_raw/sets.csv' )\n",
    "df_themes = pd.read_csv( 'data_raw/themes.csv' )\n",
    "\n",
    "\n",
    "### LOAD DATA FROM API\n",
    "##\n",
    "#\n",
    "\n",
    "\n",
    "### CLEAN DATA\n",
    "##\n",
    "#\n",
    "\n",
    "\n",
    "### JOIN DATA\n",
    "##\n",
    "#\n",
    "\n",
    "\n",
    "### PUSH TO DATABASE\n",
    "##\n",
    "#\n",
    "\n",
    "\n",
    "### VIEW DATA (Testing Only)\n",
    "##\n",
    "# Comment out when not required, used for validation purposes only\n",
    "headsize = 3\n",
    "\n",
    "display( df_colors \\\n",
    "        .head( headsize ) \\\n",
    "        .style.set_caption( 'Table: Colour value and names' ))\n",
    "\n",
    "display( df_elements \\\n",
    "        .head( headsize ) \\\n",
    "        .style.set_caption( 'Table: Parts and colour combinations' ))\n",
    "\n",
    "display( df_inventories \\\n",
    "        .head( headsize ) \\\n",
    "        .style.set_caption( 'Table: Rebrickable ID and Lego ID' ))\n",
    "\n",
    "display( df_inventory_minifigs \\\n",
    "        .head( headsize ) \\\n",
    "        .style.set_caption( 'Table: Mini-figures in sets using Rebrickable ID' ))\n",
    "\n",
    "display( df_inventory_parts \\\n",
    "        .head( headsize ) \\\n",
    "        .style.set_caption( 'Table: Parts in sets using Rebrickable ID' ))\n",
    "\n",
    "display( df_inventory_sets \\\n",
    "        .head( headsize ) \\\n",
    "        .style.set_caption( 'Table: Lego sets' ))\n",
    "\n",
    "display( df_minifigs \\\n",
    "        .head( headsize ) \\\n",
    "        .style.set_caption( 'Table: Mini-figures and their ID' ))\n",
    "\n",
    "display( df_part_categories \\\n",
    "        .head( headsize ) \\\n",
    "        .style.set_caption( 'Table: Type of brick' ))\n",
    "\n",
    "display( df_part_relationships \\\n",
    "        .head( headsize ) \\\n",
    "        .style.set_caption( 'Table: Parts and parents if applicable' ))\n",
    "\n",
    "display( df_parts \\\n",
    "        .head( headsize ) \\\n",
    "        .style.set_caption( 'Table: Parts and descriptions' ))\n",
    "\n",
    "display( df_sets \\\n",
    "        .head( headsize ) \\\n",
    "        .style.set_caption( 'Table: Sets using Lego ID' ))\n",
    "\n",
    "display( df_themes \\\n",
    "        .head( headsize ) \\\n",
    "        .style.set_caption( 'Table: Theme names and their Rebrickable ID' ))\n",
    "\n",
    "\n",
    "### LEGACY CODE\n",
    "##\n",
    "#"
   ]
  },
  {
   "cell_type": "code",
   "execution_count": null,
   "metadata": {},
   "outputs": [],
   "source": []
  },
  {
   "source": [
    "# Push data to the database"
   ],
   "cell_type": "markdown",
   "metadata": {}
  },
  {
   "source": [
    "(created by Sylvia)\n",
    "Add password and database name to code:"
   ],
   "cell_type": "markdown",
   "metadata": {}
  },
  {
   "cell_type": "code",
   "execution_count": null,
   "metadata": {},
   "outputs": [],
   "source": [
    "# Import dependencies\n",
    "from sqlalchemy import create_engine\n",
    "import pandas as pd"
   ]
  },
  {
   "cell_type": "code",
   "execution_count": null,
   "metadata": {},
   "outputs": [],
   "source": [
    "# connect to the local database\n",
    "engine = create_engine(f\"postgresql://postgres:<password>@localhost:5432/<database_name>\")"
   ]
  },
  {
   "cell_type": "code",
   "execution_count": null,
   "metadata": {},
   "outputs": [],
   "source": [
    "# check for table names\n",
    "engine.table_names()"
   ]
  },
  {
   "cell_type": "code",
   "execution_count": null,
   "metadata": {},
   "outputs": [],
   "source": [
    "# Load csv converted DataFrames into database\n",
    "elements.to_sql(name='elements', con=engine, if_exists='append', index=True)\n",
    "inventory_parts.to_sql(name='inventory_parts', con=engine, if_exists='append', index=True)\n",
    "parts.to_sql(name='parts', con=engine, if_exists='append', index=True)\n",
    "colors.to_sql(name='colors', con=engine, if_exists='append', index=True)\n",
    "parts_category.to_sql(name='parts_category', con=engine, if_exists='append', index=True)\n",
    "inventory_minifigs.to_sql(name='inventory_minifigs', con=engine, if_exists='append', index=True)\n",
    "minifigs.to_sql(name='minifigs', con=engine, if_exists='append', index=True)\n",
    "inventory_sets.to_sql(name='inventory_sets', con=engine, if_exists='append', index=True)\n",
    "inventories.to_sql(name='inventories', con=engine, if_exists='append', index=True)\n",
    "sets.to_sql(name='sets', con=engine, if_exists='append', index=True)\n",
    "themes.to_sql(name='themes', con=engine, if_exists='append', index=True)\n"
   ]
  },
  {
   "source": [
    "# Code to test data in pgAdmin"
   ],
   "cell_type": "markdown",
   "metadata": {}
  },
  {
   "cell_type": "code",
   "execution_count": null,
   "metadata": {},
   "outputs": [],
   "source": [
    "# (created by Sylvia)"
   ]
  },
  {
   "cell_type": "code",
   "execution_count": null,
   "metadata": {},
   "outputs": [],
   "source": [
    "# Query some Records in the the Database\n",
    "pd.read_sql_query('select * from sets', con=engine).head()\n"
   ]
  }
 ],
 "metadata": {
  "hide_input": false,
  "kernelspec": {
   "name": "python3",
   "display_name": "Python 3.7.9 64-bit ('homework': conda)",
   "metadata": {
    "interpreter": {
     "hash": "bda7821ce18a0b2c0f737a4544fda4e96b70694268c6080765f14fcf13080e2c"
    }
   }
  },
  "language_info": {
   "codemirror_mode": {
    "name": "ipython",
    "version": 3
   },
   "file_extension": ".py",
   "mimetype": "text/x-python",
   "name": "python",
   "nbconvert_exporter": "python",
   "pygments_lexer": "ipython3",
   "version": "3.7.9-final"
  },
  "varInspector": {
   "cols": {
    "lenName": "40",
    "lenType": 16,
    "lenVar": 40
   },
   "kernels_config": {
    "python": {
     "delete_cmd_postfix": "",
     "delete_cmd_prefix": "del ",
     "library": "var_list.py",
     "varRefreshCmd": "print(var_dic_list())"
    },
    "r": {
     "delete_cmd_postfix": ") ",
     "delete_cmd_prefix": "rm(",
     "library": "var_list.r",
     "varRefreshCmd": "cat(var_dic_list()) "
    }
   },
   "types_to_exclude": [
    "module",
    "function",
    "builtin_function_or_method",
    "instance",
    "_Feature"
   ],
   "window_display": false
  }
 },
 "nbformat": 4,
 "nbformat_minor": 4
}