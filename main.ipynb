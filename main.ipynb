{
 "cells": [
  {
   "cell_type": "code",
   "execution_count": null,
   "metadata": {},
   "outputs": [],
   "source": [
    "#####\n",
    "###\n",
    "##\n",
    "#    SYNOPSIS\n",
    "#\n",
    "#    As a small data analytics firm, our client approached us with an urgent project to collect information\n",
    "#    about this year’s LEGO sets. They are part of the manufacturing process of LEGO pieces; and want to do \n",
    "#    predictive data modelling to find out what materials will be more in demand next year, based on this\n",
    "#    year’s information, so that they can optimise their manufacturing process.\n",
    "#\n",
    "#    They have requested the information be put into database format so that it can be accessed in a way\n",
    "#    that they are already familiar with.\n",
    "#\n",
    "#    Based on the timeframe of 1 week, we have assigned the following team members to this project:\n",
    "#\n",
    "#    CONTRIBUTORS\n",
    "#    \n",
    "#    Sylvia Broadbent @github/Supasyl\n",
    "#    Cicily George @github/CicilyGeorge\n",
    "#    Daniel Sobral @github/D0SO\n",
    "#    John Bingley @github/JB-DA\n",
    "#\n",
    "#    Source and output can be found (with access) on https://github.com/Supasyl/ETL_project\n",
    "#\n",
    "##\n",
    "###\n",
    "#####\n",
    "\n",
    "\n",
    "### SETTINGS\n",
    "##\n",
    "# Dependencies\n",
    "\n",
    "import pandas as pd\n",
    "from sqlalchemy import create_engine\n",
    "import requests\n",
    "import json\n",
    "\n",
    "\n",
    "### LOAD DATA FROM CSV\n",
    "##\n",
    "#\n",
    "\n",
    "\n",
    "### LOAD DATA FROM API\n",
    "##\n",
    "#\n",
    "\n",
    "\n",
    "### CLEAN DATA\n",
    "##\n",
    "#\n",
    "\n",
    "\n",
    "### JOIN DATA\n",
    "##\n",
    "#\n",
    "\n",
    "\n",
    "### PUSH TO DATABASE\n",
    "##\n",
    "#\n",
    "\n",
    "\n",
    "### VIEW DATA (Testing Only)\n",
    "##\n",
    "#\n",
    "\n",
    "\n",
    "### LEGACY CODE\n",
    "##\n",
    "#"
   ]
  }
 ],
 "metadata": {
  "hide_input": false,
  "kernelspec": {
   "display_name": "Python 3",
   "language": "python",
   "name": "python3"
  },
  "language_info": {
   "codemirror_mode": {
    "name": "ipython",
    "version": 3
   },
   "file_extension": ".py",
   "mimetype": "text/x-python",
   "name": "python",
   "nbconvert_exporter": "python",
   "pygments_lexer": "ipython3",
   "version": "3.7.9"
  },
  "varInspector": {
   "cols": {
    "lenName": "40",
    "lenType": 16,
    "lenVar": 40
   },
   "kernels_config": {
    "python": {
     "delete_cmd_postfix": "",
     "delete_cmd_prefix": "del ",
     "library": "var_list.py",
     "varRefreshCmd": "print(var_dic_list())"
    },
    "r": {
     "delete_cmd_postfix": ") ",
     "delete_cmd_prefix": "rm(",
     "library": "var_list.r",
     "varRefreshCmd": "cat(var_dic_list()) "
    }
   },
   "types_to_exclude": [
    "module",
    "function",
    "builtin_function_or_method",
    "instance",
    "_Feature"
   ],
   "window_display": false
  }
 },
 "nbformat": 4,
 "nbformat_minor": 4
}
