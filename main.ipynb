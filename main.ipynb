{
 "cells": [
  {
   "cell_type": "code",
   "execution_count": 14,
   "metadata": {
    "ExecuteTime": {
     "end_time": "2020-11-29T03:03:37.990493Z",
     "start_time": "2020-11-29T03:03:37.062592Z"
    },
    "scrolled": false
   },
   "outputs": [
    {
     "data": {
      "text/html": [
       "<style  type=\"text/css\" >\n",
       "</style><table id=\"T_7a08ffca_31ef_11eb_aff4_c7dcbf71db4b\" ><caption>Table: Colour value and names</caption><thead>    <tr>        <th class=\"blank level0\" ></th>        <th class=\"col_heading level0 col0\" >id</th>        <th class=\"col_heading level0 col1\" >name</th>        <th class=\"col_heading level0 col2\" >rgb</th>        <th class=\"col_heading level0 col3\" >is_trans</th>    </tr></thead><tbody>\n",
       "                <tr>\n",
       "                        <th id=\"T_7a08ffca_31ef_11eb_aff4_c7dcbf71db4blevel0_row0\" class=\"row_heading level0 row0\" >0</th>\n",
       "                        <td id=\"T_7a08ffca_31ef_11eb_aff4_c7dcbf71db4brow0_col0\" class=\"data row0 col0\" >-1</td>\n",
       "                        <td id=\"T_7a08ffca_31ef_11eb_aff4_c7dcbf71db4brow0_col1\" class=\"data row0 col1\" >[Unknown]</td>\n",
       "                        <td id=\"T_7a08ffca_31ef_11eb_aff4_c7dcbf71db4brow0_col2\" class=\"data row0 col2\" >0033B2</td>\n",
       "                        <td id=\"T_7a08ffca_31ef_11eb_aff4_c7dcbf71db4brow0_col3\" class=\"data row0 col3\" >f</td>\n",
       "            </tr>\n",
       "            <tr>\n",
       "                        <th id=\"T_7a08ffca_31ef_11eb_aff4_c7dcbf71db4blevel0_row1\" class=\"row_heading level0 row1\" >1</th>\n",
       "                        <td id=\"T_7a08ffca_31ef_11eb_aff4_c7dcbf71db4brow1_col0\" class=\"data row1 col0\" >0</td>\n",
       "                        <td id=\"T_7a08ffca_31ef_11eb_aff4_c7dcbf71db4brow1_col1\" class=\"data row1 col1\" >Black</td>\n",
       "                        <td id=\"T_7a08ffca_31ef_11eb_aff4_c7dcbf71db4brow1_col2\" class=\"data row1 col2\" >05131D</td>\n",
       "                        <td id=\"T_7a08ffca_31ef_11eb_aff4_c7dcbf71db4brow1_col3\" class=\"data row1 col3\" >f</td>\n",
       "            </tr>\n",
       "            <tr>\n",
       "                        <th id=\"T_7a08ffca_31ef_11eb_aff4_c7dcbf71db4blevel0_row2\" class=\"row_heading level0 row2\" >2</th>\n",
       "                        <td id=\"T_7a08ffca_31ef_11eb_aff4_c7dcbf71db4brow2_col0\" class=\"data row2 col0\" >1</td>\n",
       "                        <td id=\"T_7a08ffca_31ef_11eb_aff4_c7dcbf71db4brow2_col1\" class=\"data row2 col1\" >Blue</td>\n",
       "                        <td id=\"T_7a08ffca_31ef_11eb_aff4_c7dcbf71db4brow2_col2\" class=\"data row2 col2\" >0055BF</td>\n",
       "                        <td id=\"T_7a08ffca_31ef_11eb_aff4_c7dcbf71db4brow2_col3\" class=\"data row2 col3\" >f</td>\n",
       "            </tr>\n",
       "    </tbody></table>"
      ],
      "text/plain": [
       "<pandas.io.formats.style.Styler at 0x25c17e9ae88>"
      ]
     },
     "metadata": {},
     "output_type": "display_data"
    },
    {
     "data": {
      "text/html": [
       "<style  type=\"text/css\" >\n",
       "</style><table id=\"T_7a099b82_31ef_11eb_ada1_c7dcbf71db4b\" ><caption>Table: Parts and colour combinations</caption><thead>    <tr>        <th class=\"blank level0\" ></th>        <th class=\"col_heading level0 col0\" >element_id</th>        <th class=\"col_heading level0 col1\" >part_num</th>        <th class=\"col_heading level0 col2\" >color_id</th>    </tr></thead><tbody>\n",
       "                <tr>\n",
       "                        <th id=\"T_7a099b82_31ef_11eb_ada1_c7dcbf71db4blevel0_row0\" class=\"row_heading level0 row0\" >0</th>\n",
       "                        <td id=\"T_7a099b82_31ef_11eb_ada1_c7dcbf71db4brow0_col0\" class=\"data row0 col0\" >4275423</td>\n",
       "                        <td id=\"T_7a099b82_31ef_11eb_ada1_c7dcbf71db4brow0_col1\" class=\"data row0 col1\" >53657</td>\n",
       "                        <td id=\"T_7a099b82_31ef_11eb_ada1_c7dcbf71db4brow0_col2\" class=\"data row0 col2\" >1004</td>\n",
       "            </tr>\n",
       "            <tr>\n",
       "                        <th id=\"T_7a099b82_31ef_11eb_ada1_c7dcbf71db4blevel0_row1\" class=\"row_heading level0 row1\" >1</th>\n",
       "                        <td id=\"T_7a099b82_31ef_11eb_ada1_c7dcbf71db4brow1_col0\" class=\"data row1 col0\" >6194308</td>\n",
       "                        <td id=\"T_7a099b82_31ef_11eb_ada1_c7dcbf71db4brow1_col1\" class=\"data row1 col1\" >92926</td>\n",
       "                        <td id=\"T_7a099b82_31ef_11eb_ada1_c7dcbf71db4brow1_col2\" class=\"data row1 col2\" >71</td>\n",
       "            </tr>\n",
       "            <tr>\n",
       "                        <th id=\"T_7a099b82_31ef_11eb_ada1_c7dcbf71db4blevel0_row2\" class=\"row_heading level0 row2\" >2</th>\n",
       "                        <td id=\"T_7a099b82_31ef_11eb_ada1_c7dcbf71db4brow2_col0\" class=\"data row2 col0\" >6229123</td>\n",
       "                        <td id=\"T_7a099b82_31ef_11eb_ada1_c7dcbf71db4brow2_col1\" class=\"data row2 col1\" >26561</td>\n",
       "                        <td id=\"T_7a099b82_31ef_11eb_ada1_c7dcbf71db4brow2_col2\" class=\"data row2 col2\" >4</td>\n",
       "            </tr>\n",
       "    </tbody></table>"
      ],
      "text/plain": [
       "<pandas.io.formats.style.Styler at 0x25c13e911c8>"
      ]
     },
     "metadata": {},
     "output_type": "display_data"
    },
    {
     "data": {
      "text/html": [
       "<style  type=\"text/css\" >\n",
       "</style><table id=\"T_7a0a3750_31ef_11eb_b61c_c7dcbf71db4b\" ><caption>Table: Rebrickable ID and Lego ID</caption><thead>    <tr>        <th class=\"blank level0\" ></th>        <th class=\"col_heading level0 col0\" >id</th>        <th class=\"col_heading level0 col1\" >version</th>        <th class=\"col_heading level0 col2\" >set_num</th>    </tr></thead><tbody>\n",
       "                <tr>\n",
       "                        <th id=\"T_7a0a3750_31ef_11eb_b61c_c7dcbf71db4blevel0_row0\" class=\"row_heading level0 row0\" >0</th>\n",
       "                        <td id=\"T_7a0a3750_31ef_11eb_b61c_c7dcbf71db4brow0_col0\" class=\"data row0 col0\" >1</td>\n",
       "                        <td id=\"T_7a0a3750_31ef_11eb_b61c_c7dcbf71db4brow0_col1\" class=\"data row0 col1\" >1</td>\n",
       "                        <td id=\"T_7a0a3750_31ef_11eb_b61c_c7dcbf71db4brow0_col2\" class=\"data row0 col2\" >7922-1</td>\n",
       "            </tr>\n",
       "            <tr>\n",
       "                        <th id=\"T_7a0a3750_31ef_11eb_b61c_c7dcbf71db4blevel0_row1\" class=\"row_heading level0 row1\" >1</th>\n",
       "                        <td id=\"T_7a0a3750_31ef_11eb_b61c_c7dcbf71db4brow1_col0\" class=\"data row1 col0\" >3</td>\n",
       "                        <td id=\"T_7a0a3750_31ef_11eb_b61c_c7dcbf71db4brow1_col1\" class=\"data row1 col1\" >1</td>\n",
       "                        <td id=\"T_7a0a3750_31ef_11eb_b61c_c7dcbf71db4brow1_col2\" class=\"data row1 col2\" >3931-1</td>\n",
       "            </tr>\n",
       "            <tr>\n",
       "                        <th id=\"T_7a0a3750_31ef_11eb_b61c_c7dcbf71db4blevel0_row2\" class=\"row_heading level0 row2\" >2</th>\n",
       "                        <td id=\"T_7a0a3750_31ef_11eb_b61c_c7dcbf71db4brow2_col0\" class=\"data row2 col0\" >4</td>\n",
       "                        <td id=\"T_7a0a3750_31ef_11eb_b61c_c7dcbf71db4brow2_col1\" class=\"data row2 col1\" >1</td>\n",
       "                        <td id=\"T_7a0a3750_31ef_11eb_b61c_c7dcbf71db4brow2_col2\" class=\"data row2 col2\" >6942-1</td>\n",
       "            </tr>\n",
       "    </tbody></table>"
      ],
      "text/plain": [
       "<pandas.io.formats.style.Styler at 0x25c14b64b88>"
      ]
     },
     "metadata": {},
     "output_type": "display_data"
    },
    {
     "data": {
      "text/html": [
       "<style  type=\"text/css\" >\n",
       "</style><table id=\"T_7a0ad32e_31ef_11eb_b269_c7dcbf71db4b\" ><caption>Table: Mini-figures in sets using Rebrickable ID</caption><thead>    <tr>        <th class=\"blank level0\" ></th>        <th class=\"col_heading level0 col0\" >inventory_id</th>        <th class=\"col_heading level0 col1\" >fig_num</th>        <th class=\"col_heading level0 col2\" >quantity</th>    </tr></thead><tbody>\n",
       "                <tr>\n",
       "                        <th id=\"T_7a0ad32e_31ef_11eb_b269_c7dcbf71db4blevel0_row0\" class=\"row_heading level0 row0\" >0</th>\n",
       "                        <td id=\"T_7a0ad32e_31ef_11eb_b269_c7dcbf71db4brow0_col0\" class=\"data row0 col0\" >3</td>\n",
       "                        <td id=\"T_7a0ad32e_31ef_11eb_b269_c7dcbf71db4brow0_col1\" class=\"data row0 col1\" >fig-001549</td>\n",
       "                        <td id=\"T_7a0ad32e_31ef_11eb_b269_c7dcbf71db4brow0_col2\" class=\"data row0 col2\" >1</td>\n",
       "            </tr>\n",
       "            <tr>\n",
       "                        <th id=\"T_7a0ad32e_31ef_11eb_b269_c7dcbf71db4blevel0_row1\" class=\"row_heading level0 row1\" >1</th>\n",
       "                        <td id=\"T_7a0ad32e_31ef_11eb_b269_c7dcbf71db4brow1_col0\" class=\"data row1 col0\" >4</td>\n",
       "                        <td id=\"T_7a0ad32e_31ef_11eb_b269_c7dcbf71db4brow1_col1\" class=\"data row1 col1\" >fig-000764</td>\n",
       "                        <td id=\"T_7a0ad32e_31ef_11eb_b269_c7dcbf71db4brow1_col2\" class=\"data row1 col2\" >1</td>\n",
       "            </tr>\n",
       "            <tr>\n",
       "                        <th id=\"T_7a0ad32e_31ef_11eb_b269_c7dcbf71db4blevel0_row2\" class=\"row_heading level0 row2\" >2</th>\n",
       "                        <td id=\"T_7a0ad32e_31ef_11eb_b269_c7dcbf71db4brow2_col0\" class=\"data row2 col0\" >19</td>\n",
       "                        <td id=\"T_7a0ad32e_31ef_11eb_b269_c7dcbf71db4brow2_col1\" class=\"data row2 col1\" >fig-000555</td>\n",
       "                        <td id=\"T_7a0ad32e_31ef_11eb_b269_c7dcbf71db4brow2_col2\" class=\"data row2 col2\" >1</td>\n",
       "            </tr>\n",
       "    </tbody></table>"
      ],
      "text/plain": [
       "<pandas.io.formats.style.Styler at 0x25c15ae28c8>"
      ]
     },
     "metadata": {},
     "output_type": "display_data"
    },
    {
     "data": {
      "text/html": [
       "<style  type=\"text/css\" >\n",
       "</style><table id=\"T_7a0b95c0_31ef_11eb_ac8b_c7dcbf71db4b\" ><caption>Table: Parts in sets using Rebrickable ID</caption><thead>    <tr>        <th class=\"blank level0\" ></th>        <th class=\"col_heading level0 col0\" >inventory_id</th>        <th class=\"col_heading level0 col1\" >part_num</th>        <th class=\"col_heading level0 col2\" >color_id</th>        <th class=\"col_heading level0 col3\" >quantity</th>        <th class=\"col_heading level0 col4\" >is_spare</th>    </tr></thead><tbody>\n",
       "                <tr>\n",
       "                        <th id=\"T_7a0b95c0_31ef_11eb_ac8b_c7dcbf71db4blevel0_row0\" class=\"row_heading level0 row0\" >0</th>\n",
       "                        <td id=\"T_7a0b95c0_31ef_11eb_ac8b_c7dcbf71db4brow0_col0\" class=\"data row0 col0\" >1</td>\n",
       "                        <td id=\"T_7a0b95c0_31ef_11eb_ac8b_c7dcbf71db4brow0_col1\" class=\"data row0 col1\" >48379c01</td>\n",
       "                        <td id=\"T_7a0b95c0_31ef_11eb_ac8b_c7dcbf71db4brow0_col2\" class=\"data row0 col2\" >72</td>\n",
       "                        <td id=\"T_7a0b95c0_31ef_11eb_ac8b_c7dcbf71db4brow0_col3\" class=\"data row0 col3\" >1</td>\n",
       "                        <td id=\"T_7a0b95c0_31ef_11eb_ac8b_c7dcbf71db4brow0_col4\" class=\"data row0 col4\" >f</td>\n",
       "            </tr>\n",
       "            <tr>\n",
       "                        <th id=\"T_7a0b95c0_31ef_11eb_ac8b_c7dcbf71db4blevel0_row1\" class=\"row_heading level0 row1\" >1</th>\n",
       "                        <td id=\"T_7a0b95c0_31ef_11eb_ac8b_c7dcbf71db4brow1_col0\" class=\"data row1 col0\" >1</td>\n",
       "                        <td id=\"T_7a0b95c0_31ef_11eb_ac8b_c7dcbf71db4brow1_col1\" class=\"data row1 col1\" >48395</td>\n",
       "                        <td id=\"T_7a0b95c0_31ef_11eb_ac8b_c7dcbf71db4brow1_col2\" class=\"data row1 col2\" >7</td>\n",
       "                        <td id=\"T_7a0b95c0_31ef_11eb_ac8b_c7dcbf71db4brow1_col3\" class=\"data row1 col3\" >1</td>\n",
       "                        <td id=\"T_7a0b95c0_31ef_11eb_ac8b_c7dcbf71db4brow1_col4\" class=\"data row1 col4\" >f</td>\n",
       "            </tr>\n",
       "            <tr>\n",
       "                        <th id=\"T_7a0b95c0_31ef_11eb_ac8b_c7dcbf71db4blevel0_row2\" class=\"row_heading level0 row2\" >2</th>\n",
       "                        <td id=\"T_7a0b95c0_31ef_11eb_ac8b_c7dcbf71db4brow2_col0\" class=\"data row2 col0\" >1</td>\n",
       "                        <td id=\"T_7a0b95c0_31ef_11eb_ac8b_c7dcbf71db4brow2_col1\" class=\"data row2 col1\" >mcsport6</td>\n",
       "                        <td id=\"T_7a0b95c0_31ef_11eb_ac8b_c7dcbf71db4brow2_col2\" class=\"data row2 col2\" >25</td>\n",
       "                        <td id=\"T_7a0b95c0_31ef_11eb_ac8b_c7dcbf71db4brow2_col3\" class=\"data row2 col3\" >1</td>\n",
       "                        <td id=\"T_7a0b95c0_31ef_11eb_ac8b_c7dcbf71db4brow2_col4\" class=\"data row2 col4\" >f</td>\n",
       "            </tr>\n",
       "    </tbody></table>"
      ],
      "text/plain": [
       "<pandas.io.formats.style.Styler at 0x25c0dc3e748>"
      ]
     },
     "metadata": {},
     "output_type": "display_data"
    },
    {
     "data": {
      "text/html": [
       "<style  type=\"text/css\" >\n",
       "</style><table id=\"T_7a0c7f4c_31ef_11eb_9190_c7dcbf71db4b\" ><caption>Table: Lego sets</caption><thead>    <tr>        <th class=\"blank level0\" ></th>        <th class=\"col_heading level0 col0\" >inventory_id</th>        <th class=\"col_heading level0 col1\" >set_num</th>        <th class=\"col_heading level0 col2\" >quantity</th>    </tr></thead><tbody>\n",
       "                <tr>\n",
       "                        <th id=\"T_7a0c7f4c_31ef_11eb_9190_c7dcbf71db4blevel0_row0\" class=\"row_heading level0 row0\" >0</th>\n",
       "                        <td id=\"T_7a0c7f4c_31ef_11eb_9190_c7dcbf71db4brow0_col0\" class=\"data row0 col0\" >35</td>\n",
       "                        <td id=\"T_7a0c7f4c_31ef_11eb_9190_c7dcbf71db4brow0_col1\" class=\"data row0 col1\" >75911-1</td>\n",
       "                        <td id=\"T_7a0c7f4c_31ef_11eb_9190_c7dcbf71db4brow0_col2\" class=\"data row0 col2\" >1</td>\n",
       "            </tr>\n",
       "            <tr>\n",
       "                        <th id=\"T_7a0c7f4c_31ef_11eb_9190_c7dcbf71db4blevel0_row1\" class=\"row_heading level0 row1\" >1</th>\n",
       "                        <td id=\"T_7a0c7f4c_31ef_11eb_9190_c7dcbf71db4brow1_col0\" class=\"data row1 col0\" >35</td>\n",
       "                        <td id=\"T_7a0c7f4c_31ef_11eb_9190_c7dcbf71db4brow1_col1\" class=\"data row1 col1\" >75912-1</td>\n",
       "                        <td id=\"T_7a0c7f4c_31ef_11eb_9190_c7dcbf71db4brow1_col2\" class=\"data row1 col2\" >1</td>\n",
       "            </tr>\n",
       "            <tr>\n",
       "                        <th id=\"T_7a0c7f4c_31ef_11eb_9190_c7dcbf71db4blevel0_row2\" class=\"row_heading level0 row2\" >2</th>\n",
       "                        <td id=\"T_7a0c7f4c_31ef_11eb_9190_c7dcbf71db4brow2_col0\" class=\"data row2 col0\" >39</td>\n",
       "                        <td id=\"T_7a0c7f4c_31ef_11eb_9190_c7dcbf71db4brow2_col1\" class=\"data row2 col1\" >75048-1</td>\n",
       "                        <td id=\"T_7a0c7f4c_31ef_11eb_9190_c7dcbf71db4brow2_col2\" class=\"data row2 col2\" >1</td>\n",
       "            </tr>\n",
       "    </tbody></table>"
      ],
      "text/plain": [
       "<pandas.io.formats.style.Styler at 0x25c17e9ac08>"
      ]
     },
     "metadata": {},
     "output_type": "display_data"
    },
    {
     "data": {
      "text/html": [
       "<style  type=\"text/css\" >\n",
       "</style><table id=\"T_7a0d1b24_31ef_11eb_b5dd_c7dcbf71db4b\" ><caption>Table: Mini-figures and their ID</caption><thead>    <tr>        <th class=\"blank level0\" ></th>        <th class=\"col_heading level0 col0\" >fig_num</th>        <th class=\"col_heading level0 col1\" >name</th>        <th class=\"col_heading level0 col2\" >num_parts</th>    </tr></thead><tbody>\n",
       "                <tr>\n",
       "                        <th id=\"T_7a0d1b24_31ef_11eb_b5dd_c7dcbf71db4blevel0_row0\" class=\"row_heading level0 row0\" >0</th>\n",
       "                        <td id=\"T_7a0d1b24_31ef_11eb_b5dd_c7dcbf71db4brow0_col0\" class=\"data row0 col0\" >fig-000001</td>\n",
       "                        <td id=\"T_7a0d1b24_31ef_11eb_b5dd_c7dcbf71db4brow0_col1\" class=\"data row0 col1\" >Toy Store Employee</td>\n",
       "                        <td id=\"T_7a0d1b24_31ef_11eb_b5dd_c7dcbf71db4brow0_col2\" class=\"data row0 col2\" >4</td>\n",
       "            </tr>\n",
       "            <tr>\n",
       "                        <th id=\"T_7a0d1b24_31ef_11eb_b5dd_c7dcbf71db4blevel0_row1\" class=\"row_heading level0 row1\" >1</th>\n",
       "                        <td id=\"T_7a0d1b24_31ef_11eb_b5dd_c7dcbf71db4brow1_col0\" class=\"data row1 col0\" >fig-000002</td>\n",
       "                        <td id=\"T_7a0d1b24_31ef_11eb_b5dd_c7dcbf71db4brow1_col1\" class=\"data row1 col1\" >Customer Kid</td>\n",
       "                        <td id=\"T_7a0d1b24_31ef_11eb_b5dd_c7dcbf71db4brow1_col2\" class=\"data row1 col2\" >4</td>\n",
       "            </tr>\n",
       "            <tr>\n",
       "                        <th id=\"T_7a0d1b24_31ef_11eb_b5dd_c7dcbf71db4blevel0_row2\" class=\"row_heading level0 row2\" >2</th>\n",
       "                        <td id=\"T_7a0d1b24_31ef_11eb_b5dd_c7dcbf71db4brow2_col0\" class=\"data row2 col0\" >fig-000003</td>\n",
       "                        <td id=\"T_7a0d1b24_31ef_11eb_b5dd_c7dcbf71db4brow2_col1\" class=\"data row2 col1\" >Assassin Droid, White</td>\n",
       "                        <td id=\"T_7a0d1b24_31ef_11eb_b5dd_c7dcbf71db4brow2_col2\" class=\"data row2 col2\" >8</td>\n",
       "            </tr>\n",
       "    </tbody></table>"
      ],
      "text/plain": [
       "<pandas.io.formats.style.Styler at 0x25c17ea5608>"
      ]
     },
     "metadata": {},
     "output_type": "display_data"
    },
    {
     "data": {
      "text/html": [
       "<style  type=\"text/css\" >\n",
       "</style><table id=\"T_7a0db6dc_31ef_11eb_bc78_c7dcbf71db4b\" ><caption>Table: Type of brick</caption><thead>    <tr>        <th class=\"blank level0\" ></th>        <th class=\"col_heading level0 col0\" >id</th>        <th class=\"col_heading level0 col1\" >name</th>    </tr></thead><tbody>\n",
       "                <tr>\n",
       "                        <th id=\"T_7a0db6dc_31ef_11eb_bc78_c7dcbf71db4blevel0_row0\" class=\"row_heading level0 row0\" >0</th>\n",
       "                        <td id=\"T_7a0db6dc_31ef_11eb_bc78_c7dcbf71db4brow0_col0\" class=\"data row0 col0\" >1</td>\n",
       "                        <td id=\"T_7a0db6dc_31ef_11eb_bc78_c7dcbf71db4brow0_col1\" class=\"data row0 col1\" >Baseplates</td>\n",
       "            </tr>\n",
       "            <tr>\n",
       "                        <th id=\"T_7a0db6dc_31ef_11eb_bc78_c7dcbf71db4blevel0_row1\" class=\"row_heading level0 row1\" >1</th>\n",
       "                        <td id=\"T_7a0db6dc_31ef_11eb_bc78_c7dcbf71db4brow1_col0\" class=\"data row1 col0\" >3</td>\n",
       "                        <td id=\"T_7a0db6dc_31ef_11eb_bc78_c7dcbf71db4brow1_col1\" class=\"data row1 col1\" >Bricks Sloped</td>\n",
       "            </tr>\n",
       "            <tr>\n",
       "                        <th id=\"T_7a0db6dc_31ef_11eb_bc78_c7dcbf71db4blevel0_row2\" class=\"row_heading level0 row2\" >2</th>\n",
       "                        <td id=\"T_7a0db6dc_31ef_11eb_bc78_c7dcbf71db4brow2_col0\" class=\"data row2 col0\" >4</td>\n",
       "                        <td id=\"T_7a0db6dc_31ef_11eb_bc78_c7dcbf71db4brow2_col1\" class=\"data row2 col1\" >Duplo, Quatro and Primo</td>\n",
       "            </tr>\n",
       "    </tbody></table>"
      ],
      "text/plain": [
       "<pandas.io.formats.style.Styler at 0x25c17ea5b48>"
      ]
     },
     "metadata": {},
     "output_type": "display_data"
    },
    {
     "data": {
      "text/html": [
       "<style  type=\"text/css\" >\n",
       "</style><table id=\"T_7a0e5282_31ef_11eb_a772_c7dcbf71db4b\" ><caption>Table: Parts and parents if applicable</caption><thead>    <tr>        <th class=\"blank level0\" ></th>        <th class=\"col_heading level0 col0\" >rel_type</th>        <th class=\"col_heading level0 col1\" >child_part_num</th>        <th class=\"col_heading level0 col2\" >parent_part_num</th>    </tr></thead><tbody>\n",
       "                <tr>\n",
       "                        <th id=\"T_7a0e5282_31ef_11eb_a772_c7dcbf71db4blevel0_row0\" class=\"row_heading level0 row0\" >0</th>\n",
       "                        <td id=\"T_7a0e5282_31ef_11eb_a772_c7dcbf71db4brow0_col0\" class=\"data row0 col0\" >M</td>\n",
       "                        <td id=\"T_7a0e5282_31ef_11eb_a772_c7dcbf71db4brow0_col1\" class=\"data row0 col1\" >3192a</td>\n",
       "                        <td id=\"T_7a0e5282_31ef_11eb_a772_c7dcbf71db4brow0_col2\" class=\"data row0 col2\" >3192</td>\n",
       "            </tr>\n",
       "            <tr>\n",
       "                        <th id=\"T_7a0e5282_31ef_11eb_a772_c7dcbf71db4blevel0_row1\" class=\"row_heading level0 row1\" >1</th>\n",
       "                        <td id=\"T_7a0e5282_31ef_11eb_a772_c7dcbf71db4brow1_col0\" class=\"data row1 col0\" >A</td>\n",
       "                        <td id=\"T_7a0e5282_31ef_11eb_a772_c7dcbf71db4brow1_col1\" class=\"data row1 col1\" >50990b</td>\n",
       "                        <td id=\"T_7a0e5282_31ef_11eb_a772_c7dcbf71db4brow1_col2\" class=\"data row1 col2\" >50990a</td>\n",
       "            </tr>\n",
       "            <tr>\n",
       "                        <th id=\"T_7a0e5282_31ef_11eb_a772_c7dcbf71db4blevel0_row2\" class=\"row_heading level0 row2\" >2</th>\n",
       "                        <td id=\"T_7a0e5282_31ef_11eb_a772_c7dcbf71db4brow2_col0\" class=\"data row2 col0\" >P</td>\n",
       "                        <td id=\"T_7a0e5282_31ef_11eb_a772_c7dcbf71db4brow2_col1\" class=\"data row2 col1\" >27382pr0005</td>\n",
       "                        <td id=\"T_7a0e5282_31ef_11eb_a772_c7dcbf71db4brow2_col2\" class=\"data row2 col2\" >27382</td>\n",
       "            </tr>\n",
       "    </tbody></table>"
      ],
      "text/plain": [
       "<pandas.io.formats.style.Styler at 0x25c144ec688>"
      ]
     },
     "metadata": {},
     "output_type": "display_data"
    },
    {
     "data": {
      "text/html": [
       "<style  type=\"text/css\" >\n",
       "</style><table id=\"T_7a0f3c2c_31ef_11eb_8220_c7dcbf71db4b\" ><caption>Table: Parts and descriptions</caption><thead>    <tr>        <th class=\"blank level0\" ></th>        <th class=\"col_heading level0 col0\" >part_num</th>        <th class=\"col_heading level0 col1\" >name</th>        <th class=\"col_heading level0 col2\" >part_cat_id</th>        <th class=\"col_heading level0 col3\" >part_material</th>    </tr></thead><tbody>\n",
       "                <tr>\n",
       "                        <th id=\"T_7a0f3c2c_31ef_11eb_8220_c7dcbf71db4blevel0_row0\" class=\"row_heading level0 row0\" >0</th>\n",
       "                        <td id=\"T_7a0f3c2c_31ef_11eb_8220_c7dcbf71db4brow0_col0\" class=\"data row0 col0\" >003434</td>\n",
       "                        <td id=\"T_7a0f3c2c_31ef_11eb_8220_c7dcbf71db4brow0_col1\" class=\"data row0 col1\" >Sticker Sheet for Set 653-1</td>\n",
       "                        <td id=\"T_7a0f3c2c_31ef_11eb_8220_c7dcbf71db4brow0_col2\" class=\"data row0 col2\" >58</td>\n",
       "                        <td id=\"T_7a0f3c2c_31ef_11eb_8220_c7dcbf71db4brow0_col3\" class=\"data row0 col3\" >Cardboard/Paper</td>\n",
       "            </tr>\n",
       "            <tr>\n",
       "                        <th id=\"T_7a0f3c2c_31ef_11eb_8220_c7dcbf71db4blevel0_row1\" class=\"row_heading level0 row1\" >1</th>\n",
       "                        <td id=\"T_7a0f3c2c_31ef_11eb_8220_c7dcbf71db4brow1_col0\" class=\"data row1 col0\" >004219</td>\n",
       "                        <td id=\"T_7a0f3c2c_31ef_11eb_8220_c7dcbf71db4brow1_col1\" class=\"data row1 col1\" >Sticker Sheet for Set 939-1 with flags for AU, IE</td>\n",
       "                        <td id=\"T_7a0f3c2c_31ef_11eb_8220_c7dcbf71db4brow1_col2\" class=\"data row1 col2\" >58</td>\n",
       "                        <td id=\"T_7a0f3c2c_31ef_11eb_8220_c7dcbf71db4brow1_col3\" class=\"data row1 col3\" >Plastic</td>\n",
       "            </tr>\n",
       "            <tr>\n",
       "                        <th id=\"T_7a0f3c2c_31ef_11eb_8220_c7dcbf71db4blevel0_row2\" class=\"row_heading level0 row2\" >2</th>\n",
       "                        <td id=\"T_7a0f3c2c_31ef_11eb_8220_c7dcbf71db4brow2_col0\" class=\"data row2 col0\" >004229</td>\n",
       "                        <td id=\"T_7a0f3c2c_31ef_11eb_8220_c7dcbf71db4brow2_col1\" class=\"data row2 col1\" >Sticker Sheet for Set 295-1</td>\n",
       "                        <td id=\"T_7a0f3c2c_31ef_11eb_8220_c7dcbf71db4brow2_col2\" class=\"data row2 col2\" >58</td>\n",
       "                        <td id=\"T_7a0f3c2c_31ef_11eb_8220_c7dcbf71db4brow2_col3\" class=\"data row2 col3\" >Plastic</td>\n",
       "            </tr>\n",
       "    </tbody></table>"
      ],
      "text/plain": [
       "<pandas.io.formats.style.Styler at 0x25c17eaa9c8>"
      ]
     },
     "metadata": {},
     "output_type": "display_data"
    },
    {
     "data": {
      "text/html": [
       "<style  type=\"text/css\" >\n",
       "</style><table id=\"T_7a1025be_31ef_11eb_8df4_c7dcbf71db4b\" ><caption>Table: Sets using Lego ID</caption><thead>    <tr>        <th class=\"blank level0\" ></th>        <th class=\"col_heading level0 col0\" >set_num</th>        <th class=\"col_heading level0 col1\" >name</th>        <th class=\"col_heading level0 col2\" >year</th>        <th class=\"col_heading level0 col3\" >theme_id</th>        <th class=\"col_heading level0 col4\" >num_parts</th>    </tr></thead><tbody>\n",
       "                <tr>\n",
       "                        <th id=\"T_7a1025be_31ef_11eb_8df4_c7dcbf71db4blevel0_row0\" class=\"row_heading level0 row0\" >0</th>\n",
       "                        <td id=\"T_7a1025be_31ef_11eb_8df4_c7dcbf71db4brow0_col0\" class=\"data row0 col0\" >001-1</td>\n",
       "                        <td id=\"T_7a1025be_31ef_11eb_8df4_c7dcbf71db4brow0_col1\" class=\"data row0 col1\" >Gears</td>\n",
       "                        <td id=\"T_7a1025be_31ef_11eb_8df4_c7dcbf71db4brow0_col2\" class=\"data row0 col2\" >1965</td>\n",
       "                        <td id=\"T_7a1025be_31ef_11eb_8df4_c7dcbf71db4brow0_col3\" class=\"data row0 col3\" >1</td>\n",
       "                        <td id=\"T_7a1025be_31ef_11eb_8df4_c7dcbf71db4brow0_col4\" class=\"data row0 col4\" >43</td>\n",
       "            </tr>\n",
       "            <tr>\n",
       "                        <th id=\"T_7a1025be_31ef_11eb_8df4_c7dcbf71db4blevel0_row1\" class=\"row_heading level0 row1\" >1</th>\n",
       "                        <td id=\"T_7a1025be_31ef_11eb_8df4_c7dcbf71db4brow1_col0\" class=\"data row1 col0\" >0011-2</td>\n",
       "                        <td id=\"T_7a1025be_31ef_11eb_8df4_c7dcbf71db4brow1_col1\" class=\"data row1 col1\" >Town Mini-Figures</td>\n",
       "                        <td id=\"T_7a1025be_31ef_11eb_8df4_c7dcbf71db4brow1_col2\" class=\"data row1 col2\" >1978</td>\n",
       "                        <td id=\"T_7a1025be_31ef_11eb_8df4_c7dcbf71db4brow1_col3\" class=\"data row1 col3\" >84</td>\n",
       "                        <td id=\"T_7a1025be_31ef_11eb_8df4_c7dcbf71db4brow1_col4\" class=\"data row1 col4\" >12</td>\n",
       "            </tr>\n",
       "            <tr>\n",
       "                        <th id=\"T_7a1025be_31ef_11eb_8df4_c7dcbf71db4blevel0_row2\" class=\"row_heading level0 row2\" >2</th>\n",
       "                        <td id=\"T_7a1025be_31ef_11eb_8df4_c7dcbf71db4brow2_col0\" class=\"data row2 col0\" >0011-3</td>\n",
       "                        <td id=\"T_7a1025be_31ef_11eb_8df4_c7dcbf71db4brow2_col1\" class=\"data row2 col1\" >Castle 2 for 1 Bonus Offer</td>\n",
       "                        <td id=\"T_7a1025be_31ef_11eb_8df4_c7dcbf71db4brow2_col2\" class=\"data row2 col2\" >1987</td>\n",
       "                        <td id=\"T_7a1025be_31ef_11eb_8df4_c7dcbf71db4brow2_col3\" class=\"data row2 col3\" >199</td>\n",
       "                        <td id=\"T_7a1025be_31ef_11eb_8df4_c7dcbf71db4brow2_col4\" class=\"data row2 col4\" >0</td>\n",
       "            </tr>\n",
       "    </tbody></table>"
      ],
      "text/plain": [
       "<pandas.io.formats.style.Styler at 0x25c17eaadc8>"
      ]
     },
     "metadata": {},
     "output_type": "display_data"
    },
    {
     "data": {
      "text/html": [
       "<style  type=\"text/css\" >\n",
       "</style><table id=\"T_7a110f42_31ef_11eb_9cb2_c7dcbf71db4b\" ><caption>Table: Theme names and their Rebrickable ID</caption><thead>    <tr>        <th class=\"blank level0\" ></th>        <th class=\"col_heading level0 col0\" >id</th>        <th class=\"col_heading level0 col1\" >name</th>        <th class=\"col_heading level0 col2\" >parent_id</th>    </tr></thead><tbody>\n",
       "                <tr>\n",
       "                        <th id=\"T_7a110f42_31ef_11eb_9cb2_c7dcbf71db4blevel0_row0\" class=\"row_heading level0 row0\" >0</th>\n",
       "                        <td id=\"T_7a110f42_31ef_11eb_9cb2_c7dcbf71db4brow0_col0\" class=\"data row0 col0\" >1</td>\n",
       "                        <td id=\"T_7a110f42_31ef_11eb_9cb2_c7dcbf71db4brow0_col1\" class=\"data row0 col1\" >Technic</td>\n",
       "                        <td id=\"T_7a110f42_31ef_11eb_9cb2_c7dcbf71db4brow0_col2\" class=\"data row0 col2\" >nan</td>\n",
       "            </tr>\n",
       "            <tr>\n",
       "                        <th id=\"T_7a110f42_31ef_11eb_9cb2_c7dcbf71db4blevel0_row1\" class=\"row_heading level0 row1\" >1</th>\n",
       "                        <td id=\"T_7a110f42_31ef_11eb_9cb2_c7dcbf71db4brow1_col0\" class=\"data row1 col0\" >2</td>\n",
       "                        <td id=\"T_7a110f42_31ef_11eb_9cb2_c7dcbf71db4brow1_col1\" class=\"data row1 col1\" >Arctic Technic</td>\n",
       "                        <td id=\"T_7a110f42_31ef_11eb_9cb2_c7dcbf71db4brow1_col2\" class=\"data row1 col2\" >1.000000</td>\n",
       "            </tr>\n",
       "            <tr>\n",
       "                        <th id=\"T_7a110f42_31ef_11eb_9cb2_c7dcbf71db4blevel0_row2\" class=\"row_heading level0 row2\" >2</th>\n",
       "                        <td id=\"T_7a110f42_31ef_11eb_9cb2_c7dcbf71db4brow2_col0\" class=\"data row2 col0\" >3</td>\n",
       "                        <td id=\"T_7a110f42_31ef_11eb_9cb2_c7dcbf71db4brow2_col1\" class=\"data row2 col1\" >Competition</td>\n",
       "                        <td id=\"T_7a110f42_31ef_11eb_9cb2_c7dcbf71db4brow2_col2\" class=\"data row2 col2\" >1.000000</td>\n",
       "            </tr>\n",
       "    </tbody></table>"
      ],
      "text/plain": [
       "<pandas.io.formats.style.Styler at 0x25c13e911c8>"
      ]
     },
     "metadata": {},
     "output_type": "display_data"
    }
   ],
   "source": [
    "#####\n",
    "###\n",
    "##\n",
    "#    SYNOPSIS\n",
    "#\n",
    "#    As a small data analytics firm, our client approached us with an urgent project to collect information\n",
    "#    about this year’s LEGO sets. They are part of the manufacturing process of LEGO pieces; and want to do \n",
    "#    predictive data modelling to find out what materials will be more in demand next year, based on this\n",
    "#    year’s information, so that they can optimise their manufacturing process.\n",
    "#\n",
    "#    They have requested the information be put into database format so that it can be accessed in a way\n",
    "#    that they are already familiar with.\n",
    "#\n",
    "#    Based on the timeframe of 1 week, we have assigned the following team members to this project:\n",
    "#\n",
    "#    CONTRIBUTORS\n",
    "#    \n",
    "#    Sylvia Broadbent @github/Supasyl\n",
    "#    Cicily George @github/CicilyGeorge\n",
    "#    Daniel Sobral @github/D0SO\n",
    "#    John Bingley @github/JB-DA\n",
    "#\n",
    "#    Source and output can be found (with access) on https://github.com/Supasyl/ETL_project\n",
    "#\n",
    "##\n",
    "###\n",
    "#####\n",
    "\n",
    "\n",
    "### SETTINGS\n",
    "##\n",
    "# Dependencies\n",
    "import pandas as pd\n",
    "from sqlalchemy import create_engine\n",
    "import requests\n",
    "import json\n",
    "\n",
    "\n",
    "### LOAD DATA FROM CSV\n",
    "##\n",
    "# Load pre-downloaded information\n",
    "df_colors = pd.read_csv( 'data_raw/colors.csv' )\n",
    "df_elements = pd.read_csv( 'data_raw/elements.csv' )\n",
    "df_inventories = pd.read_csv( 'data_raw/inventories.csv' )\n",
    "df_inventory_minifigs = pd.read_csv( 'data_raw/inventory_minifigs.csv' )\n",
    "df_inventory_parts = pd.read_csv( 'data_raw/inventory_parts.csv' )\n",
    "df_inventory_sets = pd.read_csv( 'data_raw/inventory_sets.csv' )\n",
    "df_minifigs = pd.read_csv( 'data_raw/minifigs.csv' )\n",
    "df_part_categories = pd.read_csv( 'data_raw/part_categories.csv' )\n",
    "df_part_relationships = pd.read_csv( 'data_raw/part_relationships.csv' )\n",
    "df_parts = pd.read_csv( 'data_raw/parts.csv' )\n",
    "df_sets = pd.read_csv( 'data_raw/sets.csv' )\n",
    "df_themes = pd.read_csv( 'data_raw/themes.csv' )\n",
    "\n",
    "\n",
    "### LOAD DATA FROM API\n",
    "##\n",
    "#\n",
    "\n",
    "\n",
    "### CLEAN DATA\n",
    "##\n",
    "#\n",
    "\n",
    "\n",
    "### JOIN DATA\n",
    "##\n",
    "#\n",
    "\n",
    "\n",
    "### PUSH TO DATABASE\n",
    "##\n",
    "#\n",
    "\n",
    "\n",
    "### VIEW DATA (Validation Purposes Only)\n",
    "##\n",
    "# Comment out when not required, used for validation purposes only\n",
    "\n",
    "headsize = 3\n",
    "\n",
    "display( df_colors \\\n",
    "        .head( headsize ) \\\n",
    "        .style.set_caption( 'Table: Colour value and names' ))\n",
    "\n",
    "display( df_elements \\\n",
    "        .head( headsize ) \\\n",
    "        .style.set_caption( 'Table: Parts and colour combinations' ))\n",
    "\n",
    "display( df_inventories \\\n",
    "        .head( headsize ) \\\n",
    "        .style.set_caption( 'Table: Rebrickable ID and Lego ID' ))\n",
    "\n",
    "display( df_inventory_minifigs \\\n",
    "        .head( headsize ) \\\n",
    "        .style.set_caption( 'Table: Mini-figures in sets using Rebrickable ID' ))\n",
    "\n",
    "display( df_inventory_parts \\\n",
    "        .head( headsize ) \\\n",
    "        .style.set_caption( 'Table: Parts in sets using Rebrickable ID' ))\n",
    "\n",
    "display( df_inventory_sets \\\n",
    "        .head( headsize ) \\\n",
    "        .style.set_caption( 'Table: Lego sets' ))\n",
    "\n",
    "display( df_minifigs \\\n",
    "        .head( headsize ) \\\n",
    "        .style.set_caption( 'Table: Mini-figures and their ID' ))\n",
    "\n",
    "display( df_part_categories \\\n",
    "        .head( headsize ) \\\n",
    "        .style.set_caption( 'Table: Type of brick' ))\n",
    "\n",
    "display( df_part_relationships \\\n",
    "        .head( headsize ) \\\n",
    "        .style.set_caption( 'Table: Parts and parents if applicable' ))\n",
    "\n",
    "display( df_parts \\\n",
    "        .head( headsize ) \\\n",
    "        .style.set_caption( 'Table: Parts and descriptions' ))\n",
    "\n",
    "display( df_sets \\\n",
    "        .head( headsize ) \\\n",
    "        .style.set_caption( 'Table: Sets using Lego ID' ))\n",
    "\n",
    "display( df_themes \\\n",
    "        .head( headsize ) \\\n",
    "        .style.set_caption( 'Table: Theme names and their Rebrickable ID' ))\n",
    "\n",
    "\n",
    "### LEGACY CODE\n",
    "##\n",
    "#"
   ]
  },
  {
   "cell_type": "code",
   "execution_count": null,
   "metadata": {},
   "outputs": [],
   "source": []
  },
  {
   "source": [
    "# Push data to the database"
   ],
   "cell_type": "markdown",
   "metadata": {}
  },
  {
   "source": [
    "(created by Sylvia)\n",
    "Add password and database name to code:"
   ],
   "cell_type": "markdown",
   "metadata": {}
  },
  {
   "cell_type": "code",
   "execution_count": null,
   "metadata": {},
   "outputs": [],
   "source": [
    "# Import dependencies\n",
    "from sqlalchemy import create_engine\n",
    "import pandas as pd"
   ]
  },
  {
   "cell_type": "code",
   "execution_count": null,
   "metadata": {},
   "outputs": [],
   "source": [
    "# connect to the local database\n",
    "engine = create_engine(f\"postgresql://postgres:<password>@localhost:5432/<database_name>\")"
   ]
  },
  {
   "cell_type": "code",
   "execution_count": null,
   "metadata": {},
   "outputs": [],
   "source": [
    "# check for table names\n",
    "engine.table_names()"
   ]
  },
  {
   "cell_type": "code",
   "execution_count": null,
   "metadata": {},
   "outputs": [],
   "source": [
    "# Load csv converted DataFrames into database\n",
    "elements.to_sql(name='elements', con=engine, if_exists='append', index=True)\n",
    "inventory_parts.to_sql(name='inventory_parts', con=engine, if_exists='append', index=True)\n",
    "parts.to_sql(name='parts', con=engine, if_exists='append', index=True)\n",
    "colors.to_sql(name='colors', con=engine, if_exists='append', index=True)\n",
    "parts_category.to_sql(name='parts_category', con=engine, if_exists='append', index=True)\n",
    "inventory_minifigs.to_sql(name='inventory_minifigs', con=engine, if_exists='append', index=True)\n",
    "minifigs.to_sql(name='minifigs', con=engine, if_exists='append', index=True)\n",
    "inventory_sets.to_sql(name='inventory_sets', con=engine, if_exists='append', index=True)\n",
    "inventories.to_sql(name='inventories', con=engine, if_exists='append', index=True)\n",
    "sets.to_sql(name='sets', con=engine, if_exists='append', index=True)\n",
    "themes.to_sql(name='themes', con=engine, if_exists='append', index=True)\n"
   ]
  },
  {
   "source": [
    "# Code to test data in pgAdmin"
   ],
   "cell_type": "markdown",
   "metadata": {}
  },
  {
   "cell_type": "code",
   "execution_count": null,
   "metadata": {},
   "outputs": [],
   "source": [
    "# (created by Sylvia)"
   ]
  },
  {
   "cell_type": "code",
   "execution_count": null,
   "metadata": {},
   "outputs": [],
   "source": [
    "# Query some Records in the the Database\n",
    "pd.read_sql_query('select * from sets', con=engine).head()\n"
   ]
  }
 ],
 "metadata": {
  "hide_input": false,
  "kernelspec": {
   "name": "python3",
   "display_name": "Python 3.7.9 64-bit ('homework': conda)",
   "metadata": {
    "interpreter": {
     "hash": "bda7821ce18a0b2c0f737a4544fda4e96b70694268c6080765f14fcf13080e2c"
    }
   }
  },
  "language_info": {
   "codemirror_mode": {
    "name": "ipython",
    "version": 3
   },
   "file_extension": ".py",
   "mimetype": "text/x-python",
   "name": "python",
   "nbconvert_exporter": "python",
   "pygments_lexer": "ipython3",
   "version": "3.7.9-final"
  },
  "varInspector": {
   "cols": {
    "lenName": "40",
    "lenType": 16,
    "lenVar": 40
   },
   "kernels_config": {
    "python": {
     "delete_cmd_postfix": "",
     "delete_cmd_prefix": "del ",
     "library": "var_list.py",
     "varRefreshCmd": "print(var_dic_list())"
    },
    "r": {
     "delete_cmd_postfix": ") ",
     "delete_cmd_prefix": "rm(",
     "library": "var_list.r",
     "varRefreshCmd": "cat(var_dic_list()) "
    }
   },
   "types_to_exclude": [
    "module",
    "function",
    "builtin_function_or_method",
    "instance",
    "_Feature"
   ],
   "window_display": false
  }
 },
 "nbformat": 4,
 "nbformat_minor": 4
}